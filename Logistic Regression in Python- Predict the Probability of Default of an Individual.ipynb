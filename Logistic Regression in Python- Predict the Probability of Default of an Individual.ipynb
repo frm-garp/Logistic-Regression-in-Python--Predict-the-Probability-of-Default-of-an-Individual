{
 "cells": [
  {
   "cell_type": "markdown",
   "metadata": {},
   "source": [
    "# 2. Data Understanding"
   ]
  },
  {
   "cell_type": "code",
   "execution_count": 1,
   "metadata": {},
   "outputs": [],
   "source": [
    "import pandas as pd\n",
    "import numpy as np\n",
    "from sklearn import preprocessing\n",
    "import matplotlib.pyplot as plt \n",
    "plt.rc(\"font\", size=14)\n",
    "from sklearn.linear_model import LogisticRegression\n",
    "from sklearn.model_selection import train_test_split\n",
    "import seaborn as sns\n",
    "sns.set(style=\"white\")\n",
    "sns.set(style=\"whitegrid\", color_codes=True)"
   ]
  },
  {
   "cell_type": "code",
   "execution_count": 2,
   "metadata": {},
   "outputs": [
    {
     "name": "stdout",
     "output_type": "stream",
     "text": [
      "(41188, 10)\n",
      "['loan_applicant_id', 'age', 'education', 'years_with_current_employer', 'years_at_current_address', 'household_income', 'debt_to_income_ratio', 'credit_card_debt', 'other_debt', 'y']\n"
     ]
    }
   ],
   "source": [
    "data=pd.read_csv(\"bank.csv\")\n",
    "data = data.dropna()\n",
    "print(data.shape)\n",
    "print(list(data.columns))"
   ]
  },
  {
   "cell_type": "code",
   "execution_count": 3,
   "metadata": {},
   "outputs": [
    {
     "data": {
      "text/html": [
       "<div>\n",
       "<style scoped>\n",
       "    .dataframe tbody tr th:only-of-type {\n",
       "        vertical-align: middle;\n",
       "    }\n",
       "\n",
       "    .dataframe tbody tr th {\n",
       "        vertical-align: top;\n",
       "    }\n",
       "\n",
       "    .dataframe thead th {\n",
       "        text-align: right;\n",
       "    }\n",
       "</style>\n",
       "<table border=\"1\" class=\"dataframe\">\n",
       "  <thead>\n",
       "    <tr style=\"text-align: right;\">\n",
       "      <th></th>\n",
       "      <th>loan_applicant_id</th>\n",
       "      <th>age</th>\n",
       "      <th>education</th>\n",
       "      <th>years_with_current_employer</th>\n",
       "      <th>years_at_current_address</th>\n",
       "      <th>household_income</th>\n",
       "      <th>debt_to_income_ratio</th>\n",
       "      <th>credit_card_debt</th>\n",
       "      <th>other_debt</th>\n",
       "      <th>y</th>\n",
       "    </tr>\n",
       "  </thead>\n",
       "  <tbody>\n",
       "    <tr>\n",
       "      <th>0</th>\n",
       "      <td>191</td>\n",
       "      <td>44</td>\n",
       "      <td>university.degree</td>\n",
       "      <td>10</td>\n",
       "      <td>20</td>\n",
       "      <td>192</td>\n",
       "      <td>12.116645</td>\n",
       "      <td>14.377313</td>\n",
       "      <td>8.886645</td>\n",
       "      <td>1</td>\n",
       "    </tr>\n",
       "    <tr>\n",
       "      <th>1</th>\n",
       "      <td>34318</td>\n",
       "      <td>34</td>\n",
       "      <td>high.school</td>\n",
       "      <td>3</td>\n",
       "      <td>18</td>\n",
       "      <td>57</td>\n",
       "      <td>14.264229</td>\n",
       "      <td>5.137880</td>\n",
       "      <td>2.992730</td>\n",
       "      <td>0</td>\n",
       "    </tr>\n",
       "    <tr>\n",
       "      <th>2</th>\n",
       "      <td>14932</td>\n",
       "      <td>45</td>\n",
       "      <td>university.degree</td>\n",
       "      <td>14</td>\n",
       "      <td>24</td>\n",
       "      <td>212</td>\n",
       "      <td>7.285681</td>\n",
       "      <td>10.460306</td>\n",
       "      <td>4.985339</td>\n",
       "      <td>0</td>\n",
       "    </tr>\n",
       "    <tr>\n",
       "      <th>3</th>\n",
       "      <td>2776</td>\n",
       "      <td>33</td>\n",
       "      <td>illiterate</td>\n",
       "      <td>12</td>\n",
       "      <td>5</td>\n",
       "      <td>418</td>\n",
       "      <td>11.386272</td>\n",
       "      <td>3.040189</td>\n",
       "      <td>44.554429</td>\n",
       "      <td>1</td>\n",
       "    </tr>\n",
       "    <tr>\n",
       "      <th>4</th>\n",
       "      <td>11915</td>\n",
       "      <td>20</td>\n",
       "      <td>basic</td>\n",
       "      <td>4</td>\n",
       "      <td>19</td>\n",
       "      <td>122</td>\n",
       "      <td>28.418494</td>\n",
       "      <td>14.560450</td>\n",
       "      <td>20.110112</td>\n",
       "      <td>0</td>\n",
       "    </tr>\n",
       "  </tbody>\n",
       "</table>\n",
       "</div>"
      ],
      "text/plain": [
       "   loan_applicant_id  age          education  years_with_current_employer  \\\n",
       "0                191   44  university.degree                           10   \n",
       "1              34318   34        high.school                            3   \n",
       "2              14932   45  university.degree                           14   \n",
       "3               2776   33         illiterate                           12   \n",
       "4              11915   20              basic                            4   \n",
       "\n",
       "   years_at_current_address  household_income  debt_to_income_ratio  \\\n",
       "0                        20               192             12.116645   \n",
       "1                        18                57             14.264229   \n",
       "2                        24               212              7.285681   \n",
       "3                         5               418             11.386272   \n",
       "4                        19               122             28.418494   \n",
       "\n",
       "   credit_card_debt  other_debt  y  \n",
       "0         14.377313    8.886645  1  \n",
       "1          5.137880    2.992730  0  \n",
       "2         10.460306    4.985339  0  \n",
       "3          3.040189   44.554429  1  \n",
       "4         14.560450   20.110112  0  "
      ]
     },
     "execution_count": 3,
     "metadata": {},
     "output_type": "execute_result"
    }
   ],
   "source": [
    "data.head()"
   ]
  },
  {
   "cell_type": "code",
   "execution_count": 4,
   "metadata": {},
   "outputs": [
    {
     "data": {
      "text/plain": [
       "array(['university.degree', 'high.school', 'illiterate', 'basic',\n",
       "       'professional.course'], dtype=object)"
      ]
     },
     "execution_count": 4,
     "metadata": {},
     "output_type": "execute_result"
    }
   ],
   "source": [
    "data['education'].unique()"
   ]
  },
  {
   "cell_type": "code",
   "execution_count": 5,
   "metadata": {},
   "outputs": [
    {
     "data": {
      "text/plain": [
       "0    36548\n",
       "1     4640\n",
       "Name: y, dtype: int64"
      ]
     },
     "execution_count": 5,
     "metadata": {},
     "output_type": "execute_result"
    }
   ],
   "source": [
    "data['y'].value_counts()"
   ]
  },
  {
   "cell_type": "code",
   "execution_count": 6,
   "metadata": {},
   "outputs": [
    {
     "data": {
      "image/png": "[encoded data removed]",
      "text/plain": [
       "<Figure size 432x288 with 1 Axes>"
      ]
     },
     "metadata": {},
     "output_type": "display_data"
    }
   ],
   "source": [
    "sns.countplot(x='y', data=data, palette='hls')\n",
    "plt.show()"
   ]
  },
  {
   "cell_type": "code",
   "execution_count": 7,
   "metadata": {},
   "outputs": [
    {
     "name": "stdout",
     "output_type": "stream",
     "text": [
      "\u001b[1m percentage of no default is 88.73458288821988\n",
      "\u001b[1m percentage of default 11.265417111780131\n"
     ]
    }
   ],
   "source": [
    "count_no_default = len(data[data['y']==0])\n",
    "count_default = len(data[data['y']==1])\n",
    "pct_of_no_default = count_no_default/(count_no_default+count_default)\n",
    "print(\"\\033[1m percentage of no default is\", pct_of_no_default*100)\n",
    "pct_of_default = count_default/(count_no_default+count_default)\n",
    "print(\"\\033[1m percentage of default\", pct_of_default*100)"
   ]
  },
  {
   "cell_type": "code",
   "execution_count": 8,
   "metadata": {},
   "outputs": [
    {
     "data": {
      "text/html": [
       "<div>\n",
       "<style scoped>\n",
       "    .dataframe tbody tr th:only-of-type {\n",
       "        vertical-align: middle;\n",
       "    }\n",
       "\n",
       "    .dataframe tbody tr th {\n",
       "        vertical-align: top;\n",
       "    }\n",
       "\n",
       "    .dataframe thead th {\n",
       "        text-align: right;\n",
       "    }\n",
       "</style>\n",
       "<table border=\"1\" class=\"dataframe\">\n",
       "  <thead>\n",
       "    <tr style=\"text-align: right;\">\n",
       "      <th></th>\n",
       "      <th>loan_applicant_id</th>\n",
       "      <th>age</th>\n",
       "      <th>years_with_current_employer</th>\n",
       "      <th>years_at_current_address</th>\n",
       "      <th>household_income</th>\n",
       "      <th>debt_to_income_ratio</th>\n",
       "      <th>credit_card_debt</th>\n",
       "      <th>other_debt</th>\n",
       "    </tr>\n",
       "    <tr>\n",
       "      <th>y</th>\n",
       "      <th></th>\n",
       "      <th></th>\n",
       "      <th></th>\n",
       "      <th></th>\n",
       "      <th></th>\n",
       "      <th></th>\n",
       "      <th></th>\n",
       "      <th></th>\n",
       "    </tr>\n",
       "  </thead>\n",
       "  <tbody>\n",
       "    <tr>\n",
       "      <th>0</th>\n",
       "      <td>22914.5</td>\n",
       "      <td>37.975676</td>\n",
       "      <td>13.447521</td>\n",
       "      <td>15.497729</td>\n",
       "      <td>128.300646</td>\n",
       "      <td>15.514879</td>\n",
       "      <td>7.810996</td>\n",
       "      <td>12.127154</td>\n",
       "    </tr>\n",
       "    <tr>\n",
       "      <th>1</th>\n",
       "      <td>2320.5</td>\n",
       "      <td>38.261207</td>\n",
       "      <td>14.356034</td>\n",
       "      <td>14.500000</td>\n",
       "      <td>229.554957</td>\n",
       "      <td>21.810028</td>\n",
       "      <td>23.489629</td>\n",
       "      <td>26.605214</td>\n",
       "    </tr>\n",
       "  </tbody>\n",
       "</table>\n",
       "</div>"
      ],
      "text/plain": [
       "   loan_applicant_id        age  years_with_current_employer  \\\n",
       "y                                                              \n",
       "0            22914.5  37.975676                    13.447521   \n",
       "1             2320.5  38.261207                    14.356034   \n",
       "\n",
       "   years_at_current_address  household_income  debt_to_income_ratio  \\\n",
       "y                                                                     \n",
       "0                 15.497729        128.300646             15.514879   \n",
       "1                 14.500000        229.554957             21.810028   \n",
       "\n",
       "   credit_card_debt  other_debt  \n",
       "y                                \n",
       "0          7.810996   12.127154  \n",
       "1         23.489629   26.605214  "
      ]
     },
     "execution_count": 8,
     "metadata": {},
     "output_type": "execute_result"
    }
   ],
   "source": [
    "data.groupby('y').mean()"
   ]
  },
  {
   "cell_type": "code",
   "execution_count": 9,
   "metadata": {},
   "outputs": [
    {
     "data": {
      "text/html": [
       "<div>\n",
       "<style scoped>\n",
       "    .dataframe tbody tr th:only-of-type {\n",
       "        vertical-align: middle;\n",
       "    }\n",
       "\n",
       "    .dataframe tbody tr th {\n",
       "        vertical-align: top;\n",
       "    }\n",
       "\n",
       "    .dataframe thead th {\n",
       "        text-align: right;\n",
       "    }\n",
       "</style>\n",
       "<table border=\"1\" class=\"dataframe\">\n",
       "  <thead>\n",
       "    <tr style=\"text-align: right;\">\n",
       "      <th></th>\n",
       "      <th>loan_applicant_id</th>\n",
       "      <th>age</th>\n",
       "      <th>years_with_current_employer</th>\n",
       "      <th>years_at_current_address</th>\n",
       "      <th>household_income</th>\n",
       "      <th>debt_to_income_ratio</th>\n",
       "      <th>credit_card_debt</th>\n",
       "      <th>other_debt</th>\n",
       "      <th>y</th>\n",
       "    </tr>\n",
       "    <tr>\n",
       "      <th>education</th>\n",
       "      <th></th>\n",
       "      <th></th>\n",
       "      <th></th>\n",
       "      <th></th>\n",
       "      <th></th>\n",
       "      <th></th>\n",
       "      <th></th>\n",
       "      <th></th>\n",
       "      <th></th>\n",
       "    </tr>\n",
       "  </thead>\n",
       "  <tbody>\n",
       "    <tr>\n",
       "      <th>basic</th>\n",
       "      <td>20715.466902</td>\n",
       "      <td>37.926138</td>\n",
       "      <td>13.452422</td>\n",
       "      <td>15.372353</td>\n",
       "      <td>139.645291</td>\n",
       "      <td>16.259856</td>\n",
       "      <td>9.623007</td>\n",
       "      <td>13.578631</td>\n",
       "      <td>0.112558</td>\n",
       "    </tr>\n",
       "    <tr>\n",
       "      <th>high.school</th>\n",
       "      <td>20496.678068</td>\n",
       "      <td>38.027093</td>\n",
       "      <td>13.585877</td>\n",
       "      <td>15.314944</td>\n",
       "      <td>139.625598</td>\n",
       "      <td>16.192938</td>\n",
       "      <td>9.512649</td>\n",
       "      <td>13.766241</td>\n",
       "      <td>0.112296</td>\n",
       "    </tr>\n",
       "    <tr>\n",
       "      <th>illiterate</th>\n",
       "      <td>20381.154156</td>\n",
       "      <td>38.010513</td>\n",
       "      <td>13.483130</td>\n",
       "      <td>15.424694</td>\n",
       "      <td>139.980562</td>\n",
       "      <td>16.270517</td>\n",
       "      <td>9.645607</td>\n",
       "      <td>13.962909</td>\n",
       "      <td>0.116137</td>\n",
       "    </tr>\n",
       "    <tr>\n",
       "      <th>professional.course</th>\n",
       "      <td>20543.622328</td>\n",
       "      <td>38.135690</td>\n",
       "      <td>13.641278</td>\n",
       "      <td>15.310860</td>\n",
       "      <td>138.129981</td>\n",
       "      <td>16.138116</td>\n",
       "      <td>9.343046</td>\n",
       "      <td>13.543704</td>\n",
       "      <td>0.109208</td>\n",
       "    </tr>\n",
       "    <tr>\n",
       "      <th>university.degree</th>\n",
       "      <td>20828.736579</td>\n",
       "      <td>37.941197</td>\n",
       "      <td>13.585645</td>\n",
       "      <td>15.501012</td>\n",
       "      <td>141.127128</td>\n",
       "      <td>16.258214</td>\n",
       "      <td>9.758195</td>\n",
       "      <td>13.936749</td>\n",
       "      <td>0.113082</td>\n",
       "    </tr>\n",
       "  </tbody>\n",
       "</table>\n",
       "</div>"
      ],
      "text/plain": [
       "                     loan_applicant_id        age  \\\n",
       "education                                           \n",
       "basic                     20715.466902  37.926138   \n",
       "high.school               20496.678068  38.027093   \n",
       "illiterate                20381.154156  38.010513   \n",
       "professional.course       20543.622328  38.135690   \n",
       "university.degree         20828.736579  37.941197   \n",
       "\n",
       "                     years_with_current_employer  years_at_current_address  \\\n",
       "education                                                                    \n",
       "basic                                  13.452422                 15.372353   \n",
       "high.school                            13.585877                 15.314944   \n",
       "illiterate                             13.483130                 15.424694   \n",
       "professional.course                    13.641278                 15.310860   \n",
       "university.degree                      13.585645                 15.501012   \n",
       "\n",
       "                     household_income  debt_to_income_ratio  credit_card_debt  \\\n",
       "education                                                                       \n",
       "basic                      139.645291             16.259856          9.623007   \n",
       "high.school                139.625598             16.192938          9.512649   \n",
       "illiterate                 139.980562             16.270517          9.645607   \n",
       "professional.course        138.129981             16.138116          9.343046   \n",
       "university.degree          141.127128             16.258214          9.758195   \n",
       "\n",
       "                     other_debt         y  \n",
       "education                                  \n",
       "basic                 13.578631  0.112558  \n",
       "high.school           13.766241  0.112296  \n",
       "illiterate            13.962909  0.116137  \n",
       "professional.course   13.543704  0.109208  \n",
       "university.degree     13.936749  0.113082  "
      ]
     },
     "execution_count": 9,
     "metadata": {},
     "output_type": "execute_result"
    }
   ],
   "source": [
    "data.groupby('education').mean()"
   ]
  },
  {
   "cell_type": "code",
   "execution_count": 10,
   "metadata": {},
   "outputs": [
    {
     "name": "stderr",
     "output_type": "stream",
     "text": [
      "C:\\ProgramData\\Anaconda3\\lib\\site-packages\\seaborn\\distributions.py:305: UserWarning: Dataset has 0 variance; skipping density estimate.\n",
      "  warnings.warn(msg, UserWarning)\n",
      "C:\\ProgramData\\Anaconda3\\lib\\site-packages\\seaborn\\distributions.py:305: UserWarning: Dataset has 0 variance; skipping density estimate.\n",
      "  warnings.warn(msg, UserWarning)\n"
     ]
    },
    {
     "data": {
      "text/plain": [
       "<AxesSubplot:xlabel='age', ylabel='Density'>"
      ]
     },
     "execution_count": 10,
     "metadata": {},
     "output_type": "execute_result"
    },
    {
     "data": {
      "image/png": "[encoded data removed]",
      "text/plain": [
       "<Figure size 720x432 with 1 Axes>"
      ]
     },
     "metadata": {},
     "output_type": "display_data"
    }
   ],
   "source": [
    "import seaborn as sns\n",
    "sns.set(style=\"white\")\n",
    "import matplotlib\n",
    "matplotlib.rcParams['figure.figsize'] = (10.0 , 6.0)\n",
    "sns.kdeplot( data['age'].loc[data['y'] == 0], hue=data['y'], shade=True)\n",
    "sns.kdeplot( data['age'].loc[data['y'] == 1], hue=data['y'], shade=True)"
   ]
  },
  {
   "cell_type": "code",
   "execution_count": 11,
   "metadata": {},
   "outputs": [
    {
     "data": {
      "text/plain": [
       "count    36548.000000\n",
       "mean        37.975676\n",
       "std         10.686491\n",
       "min         20.000000\n",
       "25%         29.000000\n",
       "50%         38.000000\n",
       "75%         47.000000\n",
       "max         56.000000\n",
       "Name: age, dtype: float64"
      ]
     },
     "execution_count": 11,
     "metadata": {},
     "output_type": "execute_result"
    }
   ],
   "source": [
    "data['age'].loc[data['y'] == 0].describe()"
   ]
  },
  {
   "cell_type": "code",
   "execution_count": 12,
   "metadata": {},
   "outputs": [
    {
     "data": {
      "text/plain": [
       "count    4640.000000\n",
       "mean       38.261207\n",
       "std        10.112340\n",
       "min        21.000000\n",
       "25%        29.000000\n",
       "50%        38.000000\n",
       "75%        47.000000\n",
       "max        55.000000\n",
       "Name: age, dtype: float64"
      ]
     },
     "execution_count": 12,
     "metadata": {},
     "output_type": "execute_result"
    }
   ],
   "source": [
    "data['age'].loc[data['y'] == 1].describe()"
   ]
  },
  {
   "cell_type": "code",
   "execution_count": 13,
   "metadata": {},
   "outputs": [
    {
     "data": {
      "image/png": "[encoded data removed]",
      "text/plain": [
       "<Figure size 720x432 with 1 Axes>"
      ]
     },
     "metadata": {},
     "output_type": "display_data"
    }
   ],
   "source": [
    "table=pd.crosstab(data.education,data.y)\n",
    "table.div(table.sum(1).astype(float), axis=0).plot(kind='bar', stacked=True)\n",
    "plt.title('Stacked Bar Chart of Education vs Default')\n",
    "plt.xlabel('Education')\n",
    "plt.ylabel('Proportion of Applicants')\n",
    "plt.savefig('education_vs_def_stack')"
   ]
  },
  {
   "cell_type": "code",
   "execution_count": 14,
   "metadata": {},
   "outputs": [
    {
     "name": "stderr",
     "output_type": "stream",
     "text": [
      "C:\\ProgramData\\Anaconda3\\lib\\site-packages\\seaborn\\distributions.py:305: UserWarning: Dataset has 0 variance; skipping density estimate.\n",
      "  warnings.warn(msg, UserWarning)\n",
      "C:\\ProgramData\\Anaconda3\\lib\\site-packages\\seaborn\\distributions.py:305: UserWarning: Dataset has 0 variance; skipping density estimate.\n",
      "  warnings.warn(msg, UserWarning)\n"
     ]
    },
    {
     "data": {
      "text/plain": [
       "<AxesSubplot:xlabel='years_with_current_employer', ylabel='Density'>"
      ]
     },
     "execution_count": 14,
     "metadata": {},
     "output_type": "execute_result"
    },
    {
     "data": {
      "image/png": "[encoded data removed]",
      "text/plain": [
       "<Figure size 720x432 with 1 Axes>"
      ]
     },
     "metadata": {},
     "output_type": "display_data"
    }
   ],
   "source": [
    "sns.kdeplot( data['years_with_current_employer'].loc[data['y'] == 0], hue=data['y'], shade=True)\n",
    "sns.kdeplot( data['years_with_current_employer'].loc[data['y'] == 1], hue=data['y'], shade=True)"
   ]
  },
  {
   "cell_type": "code",
   "execution_count": 15,
   "metadata": {},
   "outputs": [
    {
     "data": {
      "text/plain": [
       "count    36548.000000\n",
       "mean        13.447521\n",
       "std          8.063183\n",
       "min          0.000000\n",
       "25%          6.000000\n",
       "50%         13.000000\n",
       "75%         20.000000\n",
       "max         27.000000\n",
       "Name: years_with_current_employer, dtype: float64"
      ]
     },
     "execution_count": 15,
     "metadata": {},
     "output_type": "execute_result"
    }
   ],
   "source": [
    "data['years_with_current_employer'].loc[data['y'] == 0].describe()"
   ]
  },
  {
   "cell_type": "code",
   "execution_count": 16,
   "metadata": {},
   "outputs": [
    {
     "data": {
      "text/plain": [
       "count    4640.000000\n",
       "mean       14.356034\n",
       "std         8.722690\n",
       "min         0.000000\n",
       "25%         7.000000\n",
       "50%        14.000000\n",
       "75%        22.000000\n",
       "max        29.000000\n",
       "Name: years_with_current_employer, dtype: float64"
      ]
     },
     "execution_count": 16,
     "metadata": {},
     "output_type": "execute_result"
    }
   ],
   "source": [
    "data['years_with_current_employer'].loc[data['y'] == 1].describe()"
   ]
  },
  {
   "cell_type": "code",
   "execution_count": 17,
   "metadata": {},
   "outputs": [
    {
     "name": "stderr",
     "output_type": "stream",
     "text": [
      "C:\\ProgramData\\Anaconda3\\lib\\site-packages\\seaborn\\distributions.py:305: UserWarning: Dataset has 0 variance; skipping density estimate.\n",
      "  warnings.warn(msg, UserWarning)\n",
      "C:\\ProgramData\\Anaconda3\\lib\\site-packages\\seaborn\\distributions.py:305: UserWarning: Dataset has 0 variance; skipping density estimate.\n",
      "  warnings.warn(msg, UserWarning)\n"
     ]
    },
    {
     "data": {
      "text/plain": [
       "<AxesSubplot:xlabel='years_at_current_address', ylabel='Density'>"
      ]
     },
     "execution_count": 17,
     "metadata": {},
     "output_type": "execute_result"
    },
    {
     "data": {
      "image/png": "[encoded data removed]",
      "text/plain": [
       "<Figure size 720x432 with 1 Axes>"
      ]
     },
     "metadata": {},
     "output_type": "display_data"
    }
   ],
   "source": [
    "sns.kdeplot( data['years_at_current_address'].loc[data['y'] == 0], hue=data['y'], shade=True)\n",
    "sns.kdeplot( data['years_at_current_address'].loc[data['y'] == 1], hue=data['y'], shade=True)"
   ]
  },
  {
   "cell_type": "code",
   "execution_count": 18,
   "metadata": {},
   "outputs": [
    {
     "data": {
      "text/plain": [
       "count    36548.000000\n",
       "mean        15.497729\n",
       "std          9.245698\n",
       "min          0.000000\n",
       "25%          7.000000\n",
       "50%         16.000000\n",
       "75%         24.000000\n",
       "max         31.000000\n",
       "Name: years_at_current_address, dtype: float64"
      ]
     },
     "execution_count": 18,
     "metadata": {},
     "output_type": "execute_result"
    }
   ],
   "source": [
    "data['years_at_current_address'].loc[data['y'] == 0].describe()"
   ]
  },
  {
   "cell_type": "code",
   "execution_count": 19,
   "metadata": {},
   "outputs": [
    {
     "data": {
      "text/plain": [
       "count    4640.000000\n",
       "mean       14.500000\n",
       "std         8.637087\n",
       "min         0.000000\n",
       "25%         7.000000\n",
       "50%        15.000000\n",
       "75%        22.000000\n",
       "max        29.000000\n",
       "Name: years_at_current_address, dtype: float64"
      ]
     },
     "execution_count": 19,
     "metadata": {},
     "output_type": "execute_result"
    }
   ],
   "source": [
    "data['years_at_current_address'].loc[data['y'] == 1].describe()"
   ]
  },
  {
   "cell_type": "code",
   "execution_count": 20,
   "metadata": {},
   "outputs": [
    {
     "name": "stderr",
     "output_type": "stream",
     "text": [
      "C:\\ProgramData\\Anaconda3\\lib\\site-packages\\seaborn\\distributions.py:305: UserWarning: Dataset has 0 variance; skipping density estimate.\n",
      "  warnings.warn(msg, UserWarning)\n",
      "C:\\ProgramData\\Anaconda3\\lib\\site-packages\\seaborn\\distributions.py:305: UserWarning: Dataset has 0 variance; skipping density estimate.\n",
      "  warnings.warn(msg, UserWarning)\n"
     ]
    },
    {
     "data": {
      "text/plain": [
       "<AxesSubplot:xlabel='household_income', ylabel='Density'>"
      ]
     },
     "execution_count": 20,
     "metadata": {},
     "output_type": "execute_result"
    },
    {
     "data": {
      "image/png": "[encoded data removed]",
      "text/plain": [
       "<Figure size 720x432 with 1 Axes>"
      ]
     },
     "metadata": {},
     "output_type": "display_data"
    }
   ],
   "source": [
    "sns.kdeplot( data['household_income'].loc[data['y'] == 0], hue=data['y'], shade=True)\n",
    "sns.kdeplot( data['household_income'].loc[data['y'] == 1], hue=data['y'], shade=True)"
   ]
  },
  {
   "cell_type": "code",
   "execution_count": 21,
   "metadata": {},
   "outputs": [
    {
     "data": {
      "text/plain": [
       "count    36548.000000\n",
       "mean       128.300646\n",
       "std         66.317774\n",
       "min         14.000000\n",
       "25%         71.000000\n",
       "50%        128.000000\n",
       "75%        186.000000\n",
       "max        242.000000\n",
       "Name: household_income, dtype: float64"
      ]
     },
     "execution_count": 21,
     "metadata": {},
     "output_type": "execute_result"
    }
   ],
   "source": [
    "data['household_income'].loc[data['y'] == 0].describe()"
   ]
  },
  {
   "cell_type": "code",
   "execution_count": 22,
   "metadata": {},
   "outputs": [
    {
     "data": {
      "text/plain": [
       "count    4640.000000\n",
       "mean      229.554957\n",
       "std       124.486932\n",
       "min        14.000000\n",
       "25%       122.000000\n",
       "50%       231.000000\n",
       "75%       336.000000\n",
       "max       446.000000\n",
       "Name: household_income, dtype: float64"
      ]
     },
     "execution_count": 22,
     "metadata": {},
     "output_type": "execute_result"
    }
   ],
   "source": [
    "data['household_income'].loc[data['y'] == 1].describe()"
   ]
  },
  {
   "cell_type": "code",
   "execution_count": 23,
   "metadata": {},
   "outputs": [
    {
     "name": "stderr",
     "output_type": "stream",
     "text": [
      "C:\\ProgramData\\Anaconda3\\lib\\site-packages\\seaborn\\distributions.py:305: UserWarning: Dataset has 0 variance; skipping density estimate.\n",
      "  warnings.warn(msg, UserWarning)\n",
      "C:\\ProgramData\\Anaconda3\\lib\\site-packages\\seaborn\\distributions.py:305: UserWarning: Dataset has 0 variance; skipping density estimate.\n",
      "  warnings.warn(msg, UserWarning)\n"
     ]
    },
    {
     "data": {
      "text/plain": [
       "<AxesSubplot:xlabel='debt_to_income_ratio', ylabel='Density'>"
      ]
     },
     "execution_count": 23,
     "metadata": {},
     "output_type": "execute_result"
    },
    {
     "data": {
      "image/png": "[encoded data removed]",
      "text/plain": [
       "<Figure size 720x432 with 1 Axes>"
      ]
     },
     "metadata": {},
     "output_type": "display_data"
    }
   ],
   "source": [
    "sns.kdeplot( data['debt_to_income_ratio'].loc[data['y'] == 0], hue=data['y'], shade=True)\n",
    "sns.kdeplot( data['debt_to_income_ratio'].loc[data['y'] == 1], hue=data['y'], shade=True)"
   ]
  },
  {
   "cell_type": "code",
   "execution_count": 24,
   "metadata": {},
   "outputs": [
    {
     "data": {
      "text/plain": [
       "count    36548.000000\n",
       "mean        15.514879\n",
       "std          8.664839\n",
       "min          0.400386\n",
       "25%          8.040746\n",
       "50%         15.530198\n",
       "75%         22.934795\n",
       "max         30.599571\n",
       "Name: debt_to_income_ratio, dtype: float64"
      ]
     },
     "execution_count": 24,
     "metadata": {},
     "output_type": "execute_result"
    }
   ],
   "source": [
    "data['debt_to_income_ratio'].loc[data['y'] == 0].describe()"
   ]
  },
  {
   "cell_type": "code",
   "execution_count": 25,
   "metadata": {},
   "outputs": [
    {
     "data": {
      "text/plain": [
       "count    4640.000000\n",
       "mean       21.810028\n",
       "std        11.108836\n",
       "min         2.407115\n",
       "25%        12.293277\n",
       "50%        21.830901\n",
       "75%        31.243570\n",
       "max        41.293984\n",
       "Name: debt_to_income_ratio, dtype: float64"
      ]
     },
     "execution_count": 25,
     "metadata": {},
     "output_type": "execute_result"
    }
   ],
   "source": [
    "data['debt_to_income_ratio'].loc[data['y'] == 1].describe()"
   ]
  },
  {
   "cell_type": "code",
   "execution_count": 26,
   "metadata": {},
   "outputs": [
    {
     "name": "stderr",
     "output_type": "stream",
     "text": [
      "C:\\ProgramData\\Anaconda3\\lib\\site-packages\\seaborn\\distributions.py:305: UserWarning: Dataset has 0 variance; skipping density estimate.\n",
      "  warnings.warn(msg, UserWarning)\n",
      "C:\\ProgramData\\Anaconda3\\lib\\site-packages\\seaborn\\distributions.py:305: UserWarning: Dataset has 0 variance; skipping density estimate.\n",
      "  warnings.warn(msg, UserWarning)\n"
     ]
    },
    {
     "data": {
      "text/plain": [
       "<AxesSubplot:xlabel='credit_card_debt', ylabel='Density'>"
      ]
     },
     "execution_count": 26,
     "metadata": {},
     "output_type": "execute_result"
    },
    {
     "data": {
      "image/png": "[encoded data removed]",
      "text/plain": [
       "<Figure size 720x432 with 1 Axes>"
      ]
     },
     "metadata": {},
     "output_type": "display_data"
    }
   ],
   "source": [
    "sns.kdeplot( data['credit_card_debt'].loc[data['y'] == 0], hue=data['y'], shade=True)\n",
    "sns.kdeplot( data['credit_card_debt'].loc[data['y'] == 1], hue=data['y'], shade=True)"
   ]
  },
  {
   "cell_type": "code",
   "execution_count": 27,
   "metadata": {},
   "outputs": [
    {
     "data": {
      "text/plain": [
       "count    36548.000000\n",
       "mean         7.810996\n",
       "std          8.427304\n",
       "min          0.005668\n",
       "25%          1.651448\n",
       "50%          4.724167\n",
       "75%         11.125912\n",
       "max         55.343899\n",
       "Name: credit_card_debt, dtype: float64"
      ]
     },
     "execution_count": 27,
     "metadata": {},
     "output_type": "execute_result"
    }
   ],
   "source": [
    "data['credit_card_debt'].loc[data['y'] == 0].describe()"
   ]
  },
  {
   "cell_type": "code",
   "execution_count": 28,
   "metadata": {},
   "outputs": [
    {
     "data": {
      "text/plain": [
       "count    4640.000000\n",
       "mean       23.489629\n",
       "std        24.276876\n",
       "min         0.056798\n",
       "25%         5.807341\n",
       "50%        14.527972\n",
       "75%        33.632070\n",
       "max       149.015859\n",
       "Name: credit_card_debt, dtype: float64"
      ]
     },
     "execution_count": 28,
     "metadata": {},
     "output_type": "execute_result"
    }
   ],
   "source": [
    "data['credit_card_debt'].loc[data['y'] == 1].describe()"
   ]
  },
  {
   "cell_type": "code",
   "execution_count": 29,
   "metadata": {},
   "outputs": [
    {
     "name": "stderr",
     "output_type": "stream",
     "text": [
      "C:\\ProgramData\\Anaconda3\\lib\\site-packages\\seaborn\\distributions.py:305: UserWarning: Dataset has 0 variance; skipping density estimate.\n",
      "  warnings.warn(msg, UserWarning)\n",
      "C:\\ProgramData\\Anaconda3\\lib\\site-packages\\seaborn\\distributions.py:305: UserWarning: Dataset has 0 variance; skipping density estimate.\n",
      "  warnings.warn(msg, UserWarning)\n"
     ]
    },
    {
     "data": {
      "text/plain": [
       "<AxesSubplot:xlabel='other_debt', ylabel='Density'>"
      ]
     },
     "execution_count": 29,
     "metadata": {},
     "output_type": "execute_result"
    },
    {
     "data": {
      "image/png": "[encoded data removed]",
      "text/plain": [
       "<Figure size 720x432 with 1 Axes>"
      ]
     },
     "metadata": {},
     "output_type": "display_data"
    }
   ],
   "source": [
    "sns.kdeplot( data['other_debt'].loc[data['y'] == 0], hue=data['y'], shade=True)\n",
    "sns.kdeplot( data['other_debt'].loc[data['y'] == 1], hue=data['y'], shade=True)"
   ]
  },
  {
   "cell_type": "code",
   "execution_count": 30,
   "metadata": {},
   "outputs": [
    {
     "data": {
      "text/plain": [
       "count    36548.000000\n",
       "mean        12.127154\n",
       "std         11.343904\n",
       "min          0.021759\n",
       "25%          3.551734\n",
       "50%          8.479551\n",
       "75%         17.334192\n",
       "max         68.666080\n",
       "Name: other_debt, dtype: float64"
      ]
     },
     "execution_count": 30,
     "metadata": {},
     "output_type": "execute_result"
    }
   ],
   "source": [
    "data['other_debt'].loc[data['y'] == 0].describe()"
   ]
  },
  {
   "cell_type": "code",
   "execution_count": 31,
   "metadata": {},
   "outputs": [
    {
     "data": {
      "text/plain": [
       "count    4640.000000\n",
       "mean       26.605214\n",
       "std        26.301693\n",
       "min         0.222414\n",
       "25%         7.536917\n",
       "50%        17.818418\n",
       "75%        36.710018\n",
       "max       159.198221\n",
       "Name: other_debt, dtype: float64"
      ]
     },
     "execution_count": 31,
     "metadata": {},
     "output_type": "execute_result"
    }
   ],
   "source": [
    "data['other_debt'].loc[data['y'] == 1].describe()"
   ]
  },
  {
   "cell_type": "markdown",
   "metadata": {},
   "source": [
    "# 3. Data Preparation"
   ]
  },
  {
   "cell_type": "code",
   "execution_count": 32,
   "metadata": {},
   "outputs": [],
   "source": [
    "cat_vars=['education']\n",
    "for var in cat_vars:\n",
    "    cat_list='var'+'_'+var\n",
    "    cat_list = pd.get_dummies(data[var], prefix=var)\n",
    "    data1=data.join(cat_list)\n",
    "    data=data1\n",
    "cat_vars=['education']\n",
    "data_vars=data.columns.values.tolist()\n",
    "to_keep=[i for i in data_vars if i not in cat_vars]"
   ]
  },
  {
   "cell_type": "code",
   "execution_count": 33,
   "metadata": {},
   "outputs": [
    {
     "name": "stderr",
     "output_type": "stream",
     "text": [
      "C:\\ProgramData\\Anaconda3\\lib\\site-packages\\pandas\\core\\frame.py:4315: SettingWithCopyWarning: \n",
      "A value is trying to be set on a copy of a slice from a DataFrame\n",
      "\n",
      "See the caveats in the documentation: https://pandas.pydata.org/pandas-docs/stable/user_guide/indexing.html#returning-a-view-versus-a-copy\n",
      "  errors=errors,\n"
     ]
    },
    {
     "data": {
      "text/plain": [
       "array(['age', 'years_with_current_employer', 'years_at_current_address',\n",
       "       'household_income', 'debt_to_income_ratio', 'credit_card_debt',\n",
       "       'other_debt', 'y', 'education_basic', 'education_high.school',\n",
       "       'education_illiterate', 'education_professional.course',\n",
       "       'education_university.degree'], dtype=object)"
      ]
     },
     "execution_count": 33,
     "metadata": {},
     "output_type": "execute_result"
    }
   ],
   "source": [
    "data_final=data[to_keep]\n",
    "data_final.drop(['loan_applicant_id'], axis=1, inplace=True)\n",
    "data_final.columns.values"
   ]
  },
  {
   "cell_type": "code",
   "execution_count": 34,
   "metadata": {},
   "outputs": [
    {
     "name": "stdout",
     "output_type": "stream",
     "text": [
      "\u001b[1m length of oversampled data is  48912\n",
      "\u001b[1m Number of no default in oversampled data 24456\n",
      "\u001b[1m Number of default 24456\n",
      "\u001b[1m Proportion of no default data in oversampled data is  0.5\n",
      "\u001b[1m Proportion of default data in oversampled data is  0.5\n"
     ]
    }
   ],
   "source": [
    "X = data_final.loc[:, data_final.columns != 'y']\n",
    "y = data_final.loc[:, data_final.columns == 'y']\n",
    "\n",
    "from imblearn.over_sampling import SMOTE\n",
    "\n",
    "os = SMOTE(random_state=42)\n",
    "X_train, X_test, y_train, y_test = train_test_split(X, y, test_size=0.33, random_state=42)\n",
    "columns = X_train.columns\n",
    "\n",
    "os_data_X,os_data_y = os.fit_sample(X_train, y_train)\n",
    "os_data_X = pd.DataFrame(data=os_data_X,columns=columns )\n",
    "os_data_y = pd.DataFrame(data=os_data_y,columns=['y'])\n",
    "# we can Check the numbers of our data\n",
    "print(\"\\033[1m length of oversampled data is \",len(os_data_X))\n",
    "print(\"\\033[1m Number of no default in oversampled data\",len(os_data_y[os_data_y['y']==0]))\n",
    "print(\"\\033[1m Number of default\",len(os_data_y[os_data_y['y']==1]))\n",
    "print(\"\\033[1m Proportion of no default data in oversampled data is \",len(os_data_y[os_data_y['y']==0])/len(os_data_X))\n",
    "print(\"\\033[1m Proportion of default data in oversampled data is \",len(os_data_y[os_data_y['y']==1])/len(os_data_X))"
   ]
  },
  {
   "cell_type": "code",
   "execution_count": 35,
   "metadata": {},
   "outputs": [
    {
     "name": "stderr",
     "output_type": "stream",
     "text": [
      "C:\\ProgramData\\Anaconda3\\lib\\site-packages\\sklearn\\utils\\validation.py:70: FutureWarning: Pass n_features_to_select=9 as keyword args. From version 0.25 passing these as positional arguments will result in an error\n",
      "  FutureWarning)\n",
      "C:\\ProgramData\\Anaconda3\\lib\\site-packages\\sklearn\\linear_model\\_logistic.py:764: ConvergenceWarning: lbfgs failed to converge (status=1):\n",
      "STOP: TOTAL NO. of ITERATIONS REACHED LIMIT.\n",
      "\n",
      "Increase the number of iterations (max_iter) or scale the data as shown in:\n",
      "    https://scikit-learn.org/stable/modules/preprocessing.html\n",
      "Please also refer to the documentation for alternative solver options:\n",
      "    https://scikit-learn.org/stable/modules/linear_model.html#logistic-regression\n",
      "  extra_warning_msg=_LOGISTIC_SOLVER_CONVERGENCE_MSG)\n",
      "C:\\ProgramData\\Anaconda3\\lib\\site-packages\\sklearn\\linear_model\\_logistic.py:764: ConvergenceWarning: lbfgs failed to converge (status=1):\n",
      "STOP: TOTAL NO. of ITERATIONS REACHED LIMIT.\n",
      "\n",
      "Increase the number of iterations (max_iter) or scale the data as shown in:\n",
      "    https://scikit-learn.org/stable/modules/preprocessing.html\n",
      "Please also refer to the documentation for alternative solver options:\n",
      "    https://scikit-learn.org/stable/modules/linear_model.html#logistic-regression\n",
      "  extra_warning_msg=_LOGISTIC_SOLVER_CONVERGENCE_MSG)\n",
      "C:\\ProgramData\\Anaconda3\\lib\\site-packages\\sklearn\\linear_model\\_logistic.py:764: ConvergenceWarning: lbfgs failed to converge (status=1):\n",
      "STOP: TOTAL NO. of ITERATIONS REACHED LIMIT.\n",
      "\n",
      "Increase the number of iterations (max_iter) or scale the data as shown in:\n",
      "    https://scikit-learn.org/stable/modules/preprocessing.html\n",
      "Please also refer to the documentation for alternative solver options:\n",
      "    https://scikit-learn.org/stable/modules/linear_model.html#logistic-regression\n",
      "  extra_warning_msg=_LOGISTIC_SOLVER_CONVERGENCE_MSG)\n"
     ]
    },
    {
     "name": "stdout",
     "output_type": "stream",
     "text": [
      "[False  True False  True  True False  True  True  True  True  True  True]\n",
      "[2 1 3 1 1 4 1 1 1 1 1 1]\n"
     ]
    },
    {
     "name": "stderr",
     "output_type": "stream",
     "text": [
      "C:\\ProgramData\\Anaconda3\\lib\\site-packages\\sklearn\\linear_model\\_logistic.py:764: ConvergenceWarning: lbfgs failed to converge (status=1):\n",
      "STOP: TOTAL NO. of ITERATIONS REACHED LIMIT.\n",
      "\n",
      "Increase the number of iterations (max_iter) or scale the data as shown in:\n",
      "    https://scikit-learn.org/stable/modules/preprocessing.html\n",
      "Please also refer to the documentation for alternative solver options:\n",
      "    https://scikit-learn.org/stable/modules/linear_model.html#logistic-regression\n",
      "  extra_warning_msg=_LOGISTIC_SOLVER_CONVERGENCE_MSG)\n"
     ]
    }
   ],
   "source": [
    "data_final_vars=data_final.columns.values.tolist()\n",
    "y=['y']\n",
    "X=[i for i in data_final_vars if i not in y]\n",
    "\n",
    "from sklearn.feature_selection import RFE\n",
    "from sklearn.linear_model import LogisticRegression\n",
    "\n",
    "logreg = LogisticRegression()\n",
    "\n",
    "rfe = RFE(logreg, 9)\n",
    "rfe = rfe.fit(os_data_X, os_data_y.values.ravel())\n",
    "print(rfe.support_)\n",
    "print(rfe.ranking_)"
   ]
  },
  {
   "cell_type": "code",
   "execution_count": 36,
   "metadata": {},
   "outputs": [
    {
     "data": {
      "text/plain": [
       "Index(['age', 'years_with_current_employer', 'years_at_current_address',\n",
       "       'household_income', 'debt_to_income_ratio', 'credit_card_debt',\n",
       "       'other_debt', 'education_basic', 'education_high.school',\n",
       "       'education_illiterate', 'education_professional.course',\n",
       "       'education_university.degree'],\n",
       "      dtype='object')"
      ]
     },
     "execution_count": 36,
     "metadata": {},
     "output_type": "execute_result"
    }
   ],
   "source": [
    "os_data_X.columns"
   ]
  },
  {
   "cell_type": "code",
   "execution_count": 37,
   "metadata": {},
   "outputs": [
    {
     "data": {
      "text/html": [
       "<div>\n",
       "<style scoped>\n",
       "    .dataframe tbody tr th:only-of-type {\n",
       "        vertical-align: middle;\n",
       "    }\n",
       "\n",
       "    .dataframe tbody tr th {\n",
       "        vertical-align: top;\n",
       "    }\n",
       "\n",
       "    .dataframe thead th {\n",
       "        text-align: right;\n",
       "    }\n",
       "</style>\n",
       "<table border=\"1\" class=\"dataframe\">\n",
       "  <thead>\n",
       "    <tr style=\"text-align: right;\">\n",
       "      <th></th>\n",
       "      <th>Feature</th>\n",
       "      <th>Importance</th>\n",
       "    </tr>\n",
       "  </thead>\n",
       "  <tbody>\n",
       "    <tr>\n",
       "      <th>1</th>\n",
       "      <td>years_with_current_employer</td>\n",
       "      <td>1</td>\n",
       "    </tr>\n",
       "    <tr>\n",
       "      <th>3</th>\n",
       "      <td>household_income</td>\n",
       "      <td>1</td>\n",
       "    </tr>\n",
       "    <tr>\n",
       "      <th>4</th>\n",
       "      <td>debt_to_income_ratio</td>\n",
       "      <td>1</td>\n",
       "    </tr>\n",
       "    <tr>\n",
       "      <th>6</th>\n",
       "      <td>other_debt</td>\n",
       "      <td>1</td>\n",
       "    </tr>\n",
       "    <tr>\n",
       "      <th>7</th>\n",
       "      <td>education_basic</td>\n",
       "      <td>1</td>\n",
       "    </tr>\n",
       "    <tr>\n",
       "      <th>8</th>\n",
       "      <td>education_high.school</td>\n",
       "      <td>1</td>\n",
       "    </tr>\n",
       "    <tr>\n",
       "      <th>9</th>\n",
       "      <td>education_illiterate</td>\n",
       "      <td>1</td>\n",
       "    </tr>\n",
       "    <tr>\n",
       "      <th>10</th>\n",
       "      <td>education_professional.course</td>\n",
       "      <td>1</td>\n",
       "    </tr>\n",
       "    <tr>\n",
       "      <th>11</th>\n",
       "      <td>education_university.degree</td>\n",
       "      <td>1</td>\n",
       "    </tr>\n",
       "    <tr>\n",
       "      <th>0</th>\n",
       "      <td>age</td>\n",
       "      <td>2</td>\n",
       "    </tr>\n",
       "    <tr>\n",
       "      <th>2</th>\n",
       "      <td>years_at_current_address</td>\n",
       "      <td>3</td>\n",
       "    </tr>\n",
       "    <tr>\n",
       "      <th>5</th>\n",
       "      <td>credit_card_debt</td>\n",
       "      <td>4</td>\n",
       "    </tr>\n",
       "  </tbody>\n",
       "</table>\n",
       "</div>"
      ],
      "text/plain": [
       "                          Feature  Importance\n",
       "1     years_with_current_employer           1\n",
       "3                household_income           1\n",
       "4            debt_to_income_ratio           1\n",
       "6                      other_debt           1\n",
       "7                 education_basic           1\n",
       "8           education_high.school           1\n",
       "9            education_illiterate           1\n",
       "10  education_professional.course           1\n",
       "11    education_university.degree           1\n",
       "0                             age           2\n",
       "2        years_at_current_address           3\n",
       "5                credit_card_debt           4"
      ]
     },
     "execution_count": 37,
     "metadata": {},
     "output_type": "execute_result"
    }
   ],
   "source": [
    "data_X1 = pd.DataFrame({\n",
    "    'Feature': os_data_X.columns,\n",
    "    'Importance': rfe.ranking_},)\n",
    "data_X1.sort_values(by=['Importance'])"
   ]
  },
  {
   "cell_type": "code",
   "execution_count": 38,
   "metadata": {},
   "outputs": [
    {
     "name": "stdout",
     "output_type": "stream",
     "text": [
      "['years_with_current_employer', 'household_income', 'debt_to_income_ratio', 'other_debt', 'education_basic', 'education_high.school', 'education_illiterate', 'education_professional.course', 'education_university.degree']\n",
      "9\n"
     ]
    }
   ],
   "source": [
    "cols=[]\n",
    "for i in range (0, len(data_X1[\"Importance\"])):\n",
    "    if data_X1[\"Importance\"][i] == 1:\n",
    "        cols.append(data_X1[\"Feature\"][i])\n",
    "print(cols)\n",
    "print(len(cols))"
   ]
  },
  {
   "cell_type": "code",
   "execution_count": 39,
   "metadata": {},
   "outputs": [],
   "source": [
    "X=os_data_X[cols]\n",
    "y=os_data_y['y']"
   ]
  },
  {
   "cell_type": "markdown",
   "metadata": {},
   "source": [
    "# 4. Modeling"
   ]
  },
  {
   "cell_type": "code",
   "execution_count": 40,
   "metadata": {},
   "outputs": [
    {
     "name": "stdout",
     "output_type": "stream",
     "text": [
      "Optimization terminated successfully.\n",
      "         Current function value: 0.269908\n",
      "         Iterations 8\n",
      "                                Results: Logit\n",
      "==============================================================================\n",
      "Model:                   Logit                Pseudo R-squared:     0.611     \n",
      "Dependent Variable:      y                    AIC:                  26421.4504\n",
      "Date:                    2021-10-12 01:51     BIC:                  26500.6304\n",
      "No. Observations:        48912                Log-Likelihood:       -13202.   \n",
      "Df Model:                8                    LL-Null:              -33903.   \n",
      "Df Residuals:            48903                LLR p-value:          0.0000    \n",
      "Converged:               1.0000               Scale:                1.0000    \n",
      "No. Iterations:          8.0000                                               \n",
      "------------------------------------------------------------------------------\n",
      "                               Coef.  Std.Err.    z     P>|z|   [0.025  0.975]\n",
      "------------------------------------------------------------------------------\n",
      "years_with_current_employer    0.0189   0.0018  10.3326 0.0000  0.0153  0.0225\n",
      "household_income               0.0173   0.0002  71.5619 0.0000  0.0168  0.0178\n",
      "debt_to_income_ratio           0.1207   0.0022  56.0241 0.0000  0.1165  0.1250\n",
      "other_debt                    -0.0362   0.0013 -27.5726 0.0000 -0.0388 -0.0336\n",
      "education_basic               -6.0912   0.0696 -87.5289 0.0000 -6.2276 -5.9548\n",
      "education_high.school         -6.1076   0.0697 -87.6225 0.0000 -6.2442 -5.9710\n",
      "education_illiterate          -6.0203   0.0690 -87.3070 0.0000 -6.1554 -5.8851\n",
      "education_professional.course -6.0154   0.0687 -87.4977 0.0000 -6.1501 -5.8806\n",
      "education_university.degree   -6.0792   0.0691 -88.0078 0.0000 -6.2146 -5.9438\n",
      "==============================================================================\n",
      "\n"
     ]
    }
   ],
   "source": [
    "import statsmodels.api as sm\n",
    "logit_model=sm.Logit(y,X)\n",
    "result=logit_model.fit()\n",
    "print(result.summary2())"
   ]
  },
  {
   "cell_type": "code",
   "execution_count": 41,
   "metadata": {},
   "outputs": [
    {
     "data": {
      "text/html": [
       "<div>\n",
       "<style scoped>\n",
       "    .dataframe tbody tr th:only-of-type {\n",
       "        vertical-align: middle;\n",
       "    }\n",
       "\n",
       "    .dataframe tbody tr th {\n",
       "        vertical-align: top;\n",
       "    }\n",
       "\n",
       "    .dataframe thead th {\n",
       "        text-align: right;\n",
       "    }\n",
       "</style>\n",
       "<table border=\"1\" class=\"dataframe\">\n",
       "  <thead>\n",
       "    <tr style=\"text-align: right;\">\n",
       "      <th></th>\n",
       "      <th>p_value</th>\n",
       "    </tr>\n",
       "  </thead>\n",
       "  <tbody>\n",
       "    <tr>\n",
       "      <th>years_with_current_employer</th>\n",
       "      <td>5.019950e-25</td>\n",
       "    </tr>\n",
       "    <tr>\n",
       "      <th>household_income</th>\n",
       "      <td>0.000000e+00</td>\n",
       "    </tr>\n",
       "    <tr>\n",
       "      <th>debt_to_income_ratio</th>\n",
       "      <td>0.000000e+00</td>\n",
       "    </tr>\n",
       "    <tr>\n",
       "      <th>other_debt</th>\n",
       "      <td>2.369519e-167</td>\n",
       "    </tr>\n",
       "    <tr>\n",
       "      <th>education_basic</th>\n",
       "      <td>0.000000e+00</td>\n",
       "    </tr>\n",
       "    <tr>\n",
       "      <th>education_high.school</th>\n",
       "      <td>0.000000e+00</td>\n",
       "    </tr>\n",
       "    <tr>\n",
       "      <th>education_illiterate</th>\n",
       "      <td>0.000000e+00</td>\n",
       "    </tr>\n",
       "    <tr>\n",
       "      <th>education_professional.course</th>\n",
       "      <td>0.000000e+00</td>\n",
       "    </tr>\n",
       "    <tr>\n",
       "      <th>education_university.degree</th>\n",
       "      <td>0.000000e+00</td>\n",
       "    </tr>\n",
       "  </tbody>\n",
       "</table>\n",
       "</div>"
      ],
      "text/plain": [
       "                                     p_value\n",
       "years_with_current_employer     5.019950e-25\n",
       "household_income                0.000000e+00\n",
       "debt_to_income_ratio            0.000000e+00\n",
       "other_debt                     2.369519e-167\n",
       "education_basic                 0.000000e+00\n",
       "education_high.school           0.000000e+00\n",
       "education_illiterate            0.000000e+00\n",
       "education_professional.course   0.000000e+00\n",
       "education_university.degree     0.000000e+00"
      ]
     },
     "execution_count": 41,
     "metadata": {},
     "output_type": "execute_result"
    }
   ],
   "source": [
    "pvalue = pd.DataFrame(result.pvalues,columns={'p_value'},)\n",
    "pvalue"
   ]
  },
  {
   "cell_type": "code",
   "execution_count": 42,
   "metadata": {},
   "outputs": [
    {
     "name": "stdout",
     "output_type": "stream",
     "text": [
      "['years_with_current_employer', 'household_income', 'debt_to_income_ratio', 'other_debt', 'education_basic', 'education_high.school', 'education_illiterate', 'education_professional.course', 'education_university.degree']\n",
      "9\n"
     ]
    }
   ],
   "source": [
    "pvs=[]\n",
    "for i in range (0, len(pvalue[\"p_value\"])):\n",
    "    if pvalue[\"p_value\"][i] < 0.05:\n",
    "        pvs.append(pvalue.index[i])\n",
    "\n",
    "if 'const' in pvs:\n",
    "    pvs.remove('const')\n",
    "else:\n",
    "    pvs \n",
    "print(pvs)\n",
    "print(len(pvs))"
   ]
  },
  {
   "cell_type": "code",
   "execution_count": 43,
   "metadata": {},
   "outputs": [
    {
     "name": "stdout",
     "output_type": "stream",
     "text": [
      "Optimization terminated successfully.\n",
      "         Current function value: 0.269908\n",
      "         Iterations 8\n",
      "                           Logit Regression Results                           \n",
      "==============================================================================\n",
      "Dep. Variable:                      y   No. Observations:                48912\n",
      "Model:                          Logit   Df Residuals:                    48903\n",
      "Method:                           MLE   Df Model:                            8\n",
      "Date:                Tue, 12 Oct 2021   Pseudo R-squ.:                  0.6106\n",
      "Time:                        01:51:29   Log-Likelihood:                -13202.\n",
      "converged:                       True   LL-Null:                       -33903.\n",
      "Covariance Type:            nonrobust   LLR p-value:                     0.000\n",
      "=================================================================================================\n",
      "                                    coef    std err          z      P>|z|      [0.025      0.975]\n",
      "-------------------------------------------------------------------------------------------------\n",
      "years_with_current_employer       0.0189      0.002     10.333      0.000       0.015       0.023\n",
      "household_income                  0.0173      0.000     71.562      0.000       0.017       0.018\n",
      "debt_to_income_ratio              0.1207      0.002     56.024      0.000       0.117       0.125\n",
      "other_debt                       -0.0362      0.001    -27.573      0.000      -0.039      -0.034\n",
      "education_basic                  -6.0912      0.070    -87.529      0.000      -6.228      -5.955\n",
      "education_high.school            -6.1076      0.070    -87.623      0.000      -6.244      -5.971\n",
      "education_illiterate             -6.0203      0.069    -87.307      0.000      -6.155      -5.885\n",
      "education_professional.course    -6.0154      0.069    -87.498      0.000      -6.150      -5.881\n",
      "education_university.degree      -6.0792      0.069    -88.008      0.000      -6.215      -5.944\n",
      "=================================================================================================\n"
     ]
    }
   ],
   "source": [
    "X=os_data_X[pvs]\n",
    "y=os_data_y['y']\n",
    "\n",
    "logit_model=sm.Logit(y,X)\n",
    "result=logit_model.fit()\n",
    "print(result.summary())"
   ]
  },
  {
   "cell_type": "code",
   "execution_count": 44,
   "metadata": {},
   "outputs": [
    {
     "name": "stderr",
     "output_type": "stream",
     "text": [
      "C:\\ProgramData\\Anaconda3\\lib\\site-packages\\sklearn\\linear_model\\_logistic.py:764: ConvergenceWarning: lbfgs failed to converge (status=1):\n",
      "STOP: TOTAL NO. of ITERATIONS REACHED LIMIT.\n",
      "\n",
      "Increase the number of iterations (max_iter) or scale the data as shown in:\n",
      "    https://scikit-learn.org/stable/modules/preprocessing.html\n",
      "Please also refer to the documentation for alternative solver options:\n",
      "    https://scikit-learn.org/stable/modules/linear_model.html#logistic-regression\n",
      "  extra_warning_msg=_LOGISTIC_SOLVER_CONVERGENCE_MSG)\n"
     ]
    },
    {
     "data": {
      "text/plain": [
       "LogisticRegression()"
      ]
     },
     "execution_count": 44,
     "metadata": {},
     "output_type": "execute_result"
    }
   ],
   "source": [
    "from sklearn.linear_model import LogisticRegression\n",
    "from sklearn import metrics\n",
    "\n",
    "X_train, X_test, y_train, y_test = train_test_split(X, y, test_size=0.33, random_state=42)\n",
    "logreg = LogisticRegression()\n",
    "logreg.fit(X_train, y_train)"
   ]
  },
  {
   "cell_type": "markdown",
   "metadata": {},
   "source": [
    "# 5. Evaluation"
   ]
  },
  {
   "cell_type": "code",
   "execution_count": 45,
   "metadata": {},
   "outputs": [
    {
     "name": "stdout",
     "output_type": "stream",
     "text": [
      "Accuracy of logistic regression classifier on test set: 0.91\n"
     ]
    }
   ],
   "source": [
    "from sklearn.metrics import accuracy_score\n",
    "y_pred = logreg.predict(X_test)\n",
    "print('Accuracy of logistic regression classifier on test set: {:.2f}'.format(accuracy_score(y_test, y_pred)))"
   ]
  },
  {
   "cell_type": "code",
   "execution_count": 46,
   "metadata": {},
   "outputs": [
    {
     "name": "stdout",
     "output_type": "stream",
     "text": [
      "[[7860  169]\n",
      " [1350 6762]]\n"
     ]
    }
   ],
   "source": [
    "from sklearn.metrics import confusion_matrix\n",
    "confusion_matrix = confusion_matrix(y_test, y_pred)\n",
    "print(confusion_matrix)"
   ]
  },
  {
   "cell_type": "code",
   "execution_count": 47,
   "metadata": {},
   "outputs": [
    {
     "name": "stdout",
     "output_type": "stream",
     "text": [
      "\u001b[1m The result is telling us that we have:  14622 correct predictions\u001b[1m\n",
      "\u001b[1m The result is telling us that we have:  1519 incorrect predictions\u001b[1m\n",
      "\u001b[1m We have a total predictions of:  16141\n"
     ]
    }
   ],
   "source": [
    "print(\"\\033[1m The result is telling us that we have: \",(confusion_matrix[0,0]+confusion_matrix[1,1]),\"correct predictions\\033[1m\")\n",
    "print(\"\\033[1m The result is telling us that we have: \",(confusion_matrix[0,1]+confusion_matrix[1,0]),\"incorrect predictions\\033[1m\")\n",
    "print(\"\\033[1m We have a total predictions of: \",(confusion_matrix.sum()))"
   ]
  },
  {
   "cell_type": "code",
   "execution_count": 48,
   "metadata": {},
   "outputs": [
    {
     "name": "stdout",
     "output_type": "stream",
     "text": [
      "              precision    recall  f1-score   support\n",
      "\n",
      "           0       0.85      0.98      0.91      8029\n",
      "           1       0.98      0.83      0.90      8112\n",
      "\n",
      "    accuracy                           0.91     16141\n",
      "   macro avg       0.91      0.91      0.91     16141\n",
      "weighted avg       0.91      0.91      0.91     16141\n",
      "\n"
     ]
    }
   ],
   "source": [
    "from sklearn.metrics import classification_report\n",
    "print(classification_report(y_test, y_pred))"
   ]
  },
  {
   "cell_type": "code",
   "execution_count": 49,
   "metadata": {},
   "outputs": [
    {
     "data": {
      "image/png": "[encoded data removed]",
      "text/plain": [
       "<Figure size 720x432 with 1 Axes>"
      ]
     },
     "metadata": {},
     "output_type": "display_data"
    }
   ],
   "source": [
    "from sklearn.metrics import roc_auc_score\n",
    "from sklearn.metrics import roc_curve\n",
    "sns.set(style=\"whitegrid\", color_codes=True)\n",
    "logit_roc_auc = roc_auc_score(y_test, logreg.predict(X_test))\n",
    "fpr, tpr, thresholds = roc_curve(y_test, logreg.predict_proba(X_test)[:,1])\n",
    "plt.figure()\n",
    "plt.plot(fpr, tpr, label='Logistic Regression (area = %0.2f)' % logit_roc_auc)\n",
    "plt.plot([0, 1], [0, 1],'r--')\n",
    "plt.xlim([0.0, 1.0])\n",
    "plt.ylim([0.0, 1.05])\n",
    "plt.xlabel('False Positive Rate')\n",
    "plt.ylabel('True Positive Rate')\n",
    "plt.title('Receiver operating characteristic')\n",
    "plt.legend(loc=\"lower right\")\n",
    "plt.savefig('Log_ROC')\n",
    "plt.show()"
   ]
  },
  {
   "cell_type": "markdown",
   "metadata": {},
   "source": [
    "# 6. Deployment"
   ]
  },
  {
   "cell_type": "code",
   "execution_count": 50,
   "metadata": {},
   "outputs": [
    {
     "data": {
      "text/html": [
       "<div>\n",
       "<style scoped>\n",
       "    .dataframe tbody tr th:only-of-type {\n",
       "        vertical-align: middle;\n",
       "    }\n",
       "\n",
       "    .dataframe tbody tr th {\n",
       "        vertical-align: top;\n",
       "    }\n",
       "\n",
       "    .dataframe thead th {\n",
       "        text-align: right;\n",
       "    }\n",
       "</style>\n",
       "<table border=\"1\" class=\"dataframe\">\n",
       "  <thead>\n",
       "    <tr style=\"text-align: right;\">\n",
       "      <th></th>\n",
       "      <th>loan_applicant_id</th>\n",
       "      <th>PD</th>\n",
       "    </tr>\n",
       "  </thead>\n",
       "  <tbody>\n",
       "    <tr>\n",
       "      <th>0</th>\n",
       "      <td>191</td>\n",
       "      <td>0.206329</td>\n",
       "    </tr>\n",
       "    <tr>\n",
       "      <th>1</th>\n",
       "      <td>34318</td>\n",
       "      <td>0.041881</td>\n",
       "    </tr>\n",
       "    <tr>\n",
       "      <th>2</th>\n",
       "      <td>14932</td>\n",
       "      <td>0.201293</td>\n",
       "    </tr>\n",
       "    <tr>\n",
       "      <th>3</th>\n",
       "      <td>2776</td>\n",
       "      <td>0.749639</td>\n",
       "    </tr>\n",
       "    <tr>\n",
       "      <th>4</th>\n",
       "      <td>11915</td>\n",
       "      <td>0.239431</td>\n",
       "    </tr>\n",
       "    <tr>\n",
       "      <th>5</th>\n",
       "      <td>21925</td>\n",
       "      <td>0.439802</td>\n",
       "    </tr>\n",
       "    <tr>\n",
       "      <th>6</th>\n",
       "      <td>15110</td>\n",
       "      <td>0.034946</td>\n",
       "    </tr>\n",
       "    <tr>\n",
       "      <th>7</th>\n",
       "      <td>19944</td>\n",
       "      <td>0.061453</td>\n",
       "    </tr>\n",
       "    <tr>\n",
       "      <th>8</th>\n",
       "      <td>22850</td>\n",
       "      <td>0.422680</td>\n",
       "    </tr>\n",
       "    <tr>\n",
       "      <th>9</th>\n",
       "      <td>37927</td>\n",
       "      <td>0.008191</td>\n",
       "    </tr>\n",
       "  </tbody>\n",
       "</table>\n",
       "</div>"
      ],
      "text/plain": [
       "   loan_applicant_id        PD\n",
       "0                191  0.206329\n",
       "1              34318  0.041881\n",
       "2              14932  0.201293\n",
       "3               2776  0.749639\n",
       "4              11915  0.239431\n",
       "5              21925  0.439802\n",
       "6              15110  0.034946\n",
       "7              19944  0.061453\n",
       "8              22850  0.422680\n",
       "9              37927  0.008191"
      ]
     },
     "execution_count": 50,
     "metadata": {},
     "output_type": "execute_result"
    }
   ],
   "source": [
    "data['PD'] = logreg.predict_proba(data[X_train.columns])[:,1]\n",
    "data[['loan_applicant_id', 'PD']].head(10)"
   ]
  },
  {
   "cell_type": "code",
   "execution_count": 51,
   "metadata": {},
   "outputs": [
    {
     "data": {
      "text/plain": [
       "Index(['years_with_current_employer', 'household_income',\n",
       "       'debt_to_income_ratio', 'other_debt', 'education_basic',\n",
       "       'education_high.school', 'education_illiterate',\n",
       "       'education_professional.course', 'education_university.degree'],\n",
       "      dtype='object')"
      ]
     },
     "execution_count": 51,
     "metadata": {},
     "output_type": "execute_result"
    }
   ],
   "source": [
    "X_train.columns"
   ]
  },
  {
   "cell_type": "code",
   "execution_count": 52,
   "metadata": {},
   "outputs": [
    {
     "name": "stdout",
     "output_type": "stream",
     "text": [
      "\u001b[1m This new loan applicant has a 4.19% chance of defaulting on a new debt\n"
     ]
    }
   ],
   "source": [
    "new_data = np.array([3,57,14.26,2.993,0,1,0,0,0]).reshape(1, -1)\n",
    "new_pred=logreg.predict_proba(new_data)[:,1][0]\n",
    "print(\"\\033[1m This new loan applicant has a {:.2%}\".format(new_pred), \"chance of defaulting on a new debt\")"
   ]
  }
 ],
 "metadata": {
  "kernelspec": {
   "display_name": "Python 3",
   "language": "python",
   "name": "python3"
  },
  "language_info": {
   "codemirror_mode": {
    "name": "ipython",
    "version": 3
   },
   "file_extension": ".py",
   "mimetype": "text/x-python",
   "name": "python",
   "nbconvert_exporter": "python",
   "pygments_lexer": "ipython3",
   "version": "3.7.4"
  }
 },
 "nbformat": 4,
 "nbformat_minor": 4
}
